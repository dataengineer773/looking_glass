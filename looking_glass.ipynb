{
 "cells": [
  {
   "cell_type": "code",
   "execution_count": 1,
   "id": "1f1d7d23-900b-43ef-8780-88291a6c8dac",
   "metadata": {},
   "outputs": [],
   "source": [
    "def verse():\n",
    "    print('The time has come')"
   ]
  },
  {
   "cell_type": "code",
   "execution_count": 2,
   "id": "286f8be2-f6b7-48fd-90ca-5b37633437fc",
   "metadata": {},
   "outputs": [
    {
     "name": "stdout",
     "output_type": "stream",
     "text": [
      "The time has come\n"
     ]
    }
   ],
   "source": [
    "verse()"
   ]
  },
  {
   "cell_type": "code",
   "execution_count": 3,
   "id": "de8b4d3b-d67d-49fc-8156-f049d6093338",
   "metadata": {},
   "outputs": [
    {
     "name": "stdout",
     "output_type": "stream",
     "text": [
      "back to normal\n"
     ]
    }
   ],
   "source": [
    "print('back to normal')"
   ]
  },
  {
   "cell_type": "code",
   "execution_count": null,
   "id": "945d4aa6-0e9c-4dbd-a53e-07496c0f43ed",
   "metadata": {},
   "outputs": [],
   "source": []
  }
 ],
 "metadata": {
  "kernelspec": {
   "display_name": "Python 3 (ipykernel)",
   "language": "python",
   "name": "python3"
  },
  "language_info": {
   "codemirror_mode": {
    "name": "ipython",
    "version": 3
   },
   "file_extension": ".py",
   "mimetype": "text/x-python",
   "name": "python",
   "nbconvert_exporter": "python",
   "pygments_lexer": "ipython3",
   "version": "3.12.3"
  }
 },
 "nbformat": 4,
 "nbformat_minor": 5
}
